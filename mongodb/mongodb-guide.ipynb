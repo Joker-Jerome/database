{
 "cells": [
  {
   "cell_type": "markdown",
   "metadata": {},
   "source": [
    "<h1>Connect to your MongoDB database</h1>\n",
    "<p>In principle, any number of users can access any number of MongoDB databases hosted on a single server. Some can have read permission, some can read and write, etc.</p>\n",
    "<p>For this course, we have given each of you read/write access to a database whose name matches your NetID. Your default password is <tt>12345</tt> (we'll change this in the next step). In particular, this is separate from your Yale password. For simplicity, we'll store the netid and password as variables.</p>\n",
    "<p><b>Be sure to change your netid</b> (and, later, your password) <b>before running this cell</b>:</p>"
   ]
  },
  {
   "cell_type": "code",
   "execution_count": 1,
   "metadata": {},
   "outputs": [],
   "source": [
    "netid = 'testuser'\n",
    "password = '12345'"
   ]
  },
  {
   "cell_type": "markdown",
   "metadata": {},
   "source": [
    "<p>Now let's actually connect to the database. <tt>username</tt> is, of course, your user name and <tt>authSource</tt> is the name of the database; for this course they are both your NetID, but normally they will be different.</p>"
   ]
  },
  {
   "cell_type": "code",
   "execution_count": 2,
   "metadata": {},
   "outputs": [],
   "source": [
    "from pymongo import MongoClient\n",
    "mongodb = MongoClient(username=netid, password=password, authSource=netid)\n",
    "mydb = mongodb[netid]"
   ]
  },
  {
   "cell_type": "markdown",
   "metadata": {},
   "source": [
    "<p>If you wanted to connect to a database located elsewhere, you'd pass in the URL to the MongoClient constructor; for this class, however, we'll always use the one on the class server, so there is no need to specify.</p>"
   ]
  },
  {
   "cell_type": "markdown",
   "metadata": {},
   "source": [
    "<h1>Change password</h1>\n",
    "<p>Before we do anything else, let's change your MongoDB password. <b>Modify the following line with your new password.</b> Good security practice is to use a password you do not use anywhere else. (Note that the instructors have access to your Jupyter notebooks.)</p>"
   ]
  },
  {
   "cell_type": "code",
   "execution_count": 3,
   "metadata": {},
   "outputs": [
    {
     "data": {
      "text/plain": [
       "{'ok': 1.0}"
      ]
     },
     "execution_count": 3,
     "metadata": {},
     "output_type": "execute_result"
    }
   ],
   "source": [
    "mydb.command('updateUser', netid, pwd='12345')"
   ]
  },
  {
   "cell_type": "markdown",
   "metadata": {},
   "source": [
    "<p>If this succeeded, you should see <tt>{'ok': 1.0}</tt>; otherwise you should get a <tt>pymongo.errors.OperationFailure</tt> exception.</p>"
   ]
  },
  {
   "cell_type": "markdown",
   "metadata": {},
   "source": [
    "<h1>Define a collection</h1>\n",
    "<p>A collection can be defined by simply referring to the <tt>database.collection_name</tt>. Here, we'll create one, assign it to a variable (for convenience), and print it out (just to see what happens). <i>Note: databases can be created similarly.</i></p> "
   ]
  },
  {
   "cell_type": "code",
   "execution_count": 4,
   "metadata": {},
   "outputs": [
    {
     "name": "stdout",
     "output_type": "stream",
     "text": [
      "Collection(Database(MongoClient(host=['localhost:27017'], document_class=dict, tz_aware=False, connect=True, authsource='testuser'), 'testuser'), 'cells')\n"
     ]
    }
   ],
   "source": [
    "cells = mydb.cells # or, equivalently, mydb['cells']\n",
    "print(cells)"
   ]
  },
  {
   "cell_type": "markdown",
   "metadata": {},
   "source": [
    "<p>Since MongoDB is by default schemaless, we're done.</p>\n",
    "<p><i>Technically</i>, the collection hasn't been actually created yet since we haven't put anything in it. Thus if we ask for the list of collection names, we won't get anything yet.</p>"
   ]
  },
  {
   "cell_type": "code",
   "execution_count": 5,
   "metadata": {},
   "outputs": [
    {
     "data": {
      "text/plain": [
       "[]"
      ]
     },
     "execution_count": 5,
     "metadata": {},
     "output_type": "execute_result"
    }
   ],
   "source": [
    "mydb.collection_names()"
   ]
  },
  {
   "cell_type": "markdown",
   "metadata": {},
   "source": [
    "<h1>Adding data to a collection</h1>"
   ]
  },
  {
   "cell_type": "markdown",
   "metadata": {},
   "source": [
    "Use <tt>insert_one</tt> or <tt>insert_many</tt> to insert one or many documents into a collection:"
   ]
  },
  {
   "cell_type": "code",
   "execution_count": 6,
   "metadata": {},
   "outputs": [
    {
     "data": {
      "text/plain": [
       "<pymongo.results.InsertOneResult at 0x7f3b0041ed48>"
      ]
     },
     "execution_count": 6,
     "metadata": {},
     "output_type": "execute_result"
    }
   ],
   "source": [
    "cells.insert_one({\n",
    "                  'name': 'Hippocampus CA1 pyramidal cell',\n",
    "                  'channels': ['I Na,t', 'I Na,p', 'I Potassium', 'I A', 'I K', 'I M',\n",
    "                               'I L high threshold', 'I N', 'I T low threshold', 'I p,q',\n",
    "                               'I K,Ca', 'I h'],\n",
    "                  'transmitters': ['NO', 'Glutamate'],\n",
    "                  'average dendrite length': 4586\n",
    "              })"
   ]
  },
  {
   "cell_type": "code",
   "execution_count": 7,
   "metadata": {},
   "outputs": [],
   "source": [
    "insert_result = cells.insert_many([\n",
    "                 {\n",
    "                      'name': 'Dentate Gyrus granule cell',\n",
    "                      'average dendrite length': 3500,\n",
    "                      'excitatory': True,\n",
    "                      'channels': ['I Na,t', 'I Na,p', 'I A', 'I K', 'I L high threshold',\n",
    "                                   'I N', 'I T low threshold', 'I K,Ca', 'I h'],\n",
    "                      'transmitters': ['Dynorphin', 'Zn2+', 'Glutamate'],\n",
    "                 },\n",
    "                 {\n",
    "                      'name': 'Olfactory granule cell',\n",
    "                      'average dendrite length': 1000,   # I made this up completely, please don't quote any of these\n",
    "                      'excitatory': False,\n",
    "                      'channels': ['I A', 'I N', 'I T low threshold', 'I p,q', 'I CAN', 'I h'],\n",
    "                      'transmitters': ['NO', 'Gaba'],\n",
    "                      'region': 'olfactory bulb'\n",
    "                 }\n",
    "              ])"
   ]
  },
  {
   "cell_type": "code",
   "execution_count": 8,
   "metadata": {},
   "outputs": [
    {
     "name": "stdout",
     "output_type": "stream",
     "text": [
      "[ObjectId('5a66698b51290025ab83f861'), ObjectId('5a66698b51290025ab83f862')]\n"
     ]
    }
   ],
   "source": [
    "print(insert_result.inserted_ids)"
   ]
  },
  {
   "cell_type": "markdown",
   "metadata": {},
   "source": [
    "Note that <tt>insert_one</tt> and <tt>insert_many</tt> return an object which contains the id of the newly created document(s). An <tt>id</tt> may also be specified by including an <tt>_id</tt> key in the dictionary. (Note the underscore.)<br/><br/>We have thus now defined a total of <tt>cells.count()</tt> documents (cells)."
   ]
  },
  {
   "cell_type": "code",
   "execution_count": 9,
   "metadata": {},
   "outputs": [
    {
     "name": "stdout",
     "output_type": "stream",
     "text": [
      "3\n"
     ]
    }
   ],
   "source": [
    "print(cells.count())"
   ]
  },
  {
   "cell_type": "markdown",
   "metadata": {},
   "source": [
    "And thus now there really is a collection:"
   ]
  },
  {
   "cell_type": "code",
   "execution_count": 10,
   "metadata": {},
   "outputs": [
    {
     "name": "stdout",
     "output_type": "stream",
     "text": [
      "['cells']\n"
     ]
    }
   ],
   "source": [
    "print(mydb.collection_names())"
   ]
  },
  {
   "cell_type": "markdown",
   "metadata": {},
   "source": [
    "<h1>Indexes and uniqueness</h1>"
   ]
  },
  {
   "cell_type": "markdown",
   "metadata": {},
   "source": [
    "To speed up searches, we can define an index:"
   ]
  },
  {
   "cell_type": "code",
   "execution_count": 11,
   "metadata": {},
   "outputs": [
    {
     "data": {
      "text/plain": [
       "'name_1'"
      ]
     },
     "execution_count": 11,
     "metadata": {},
     "output_type": "execute_result"
    }
   ],
   "source": [
    "cells.create_index('name', unique=True)"
   ]
  },
  {
   "cell_type": "markdown",
   "metadata": {},
   "source": [
    "The <tt>unique=True</tt> here ensures that there is only one cell in the database with a given name. Attempting to add another e.g. Hippocampus CA1 pyramidal cell will raise a <tt>pymongo.errors.DuplicateKeyError</tt> Exception:"
   ]
  },
  {
   "cell_type": "code",
   "execution_count": 12,
   "metadata": {},
   "outputs": [
    {
     "ename": "DuplicateKeyError",
     "evalue": "E11000 duplicate key error collection: testuser.cells index: name_1 dup key: { : \"Hippocampus CA1 pyramidal cell\" }",
     "output_type": "error",
     "traceback": [
      "\u001b[0;31m---------------------------------------------------------------------------\u001b[0m",
      "\u001b[0;31mDuplicateKeyError\u001b[0m                         Traceback (most recent call last)",
      "\u001b[0;32m<ipython-input-12-a43be058d2b1>\u001b[0m in \u001b[0;36m<module>\u001b[0;34m()\u001b[0m\n\u001b[1;32m      1\u001b[0m cells.insert_one({\n\u001b[1;32m      2\u001b[0m                   \u001b[0;34m'name'\u001b[0m\u001b[0;34m:\u001b[0m \u001b[0;34m'Hippocampus CA1 pyramidal cell'\u001b[0m\u001b[0;34m,\u001b[0m\u001b[0;34m\u001b[0m\u001b[0m\n\u001b[0;32m----> 3\u001b[0;31m                   \u001b[0;34m'average dendrite length'\u001b[0m\u001b[0;34m:\u001b[0m \u001b[0;36m4586\u001b[0m\u001b[0;34m\u001b[0m\u001b[0m\n\u001b[0m\u001b[1;32m      4\u001b[0m               })\n",
      "\u001b[0;32m/usr/local/lib/python3.5/dist-packages/pymongo/collection.py\u001b[0m in \u001b[0;36minsert_one\u001b[0;34m(self, document, bypass_document_validation, session)\u001b[0m\n\u001b[1;32m    680\u001b[0m             self._insert(document,\n\u001b[1;32m    681\u001b[0m                          \u001b[0mbypass_doc_val\u001b[0m\u001b[0;34m=\u001b[0m\u001b[0mbypass_document_validation\u001b[0m\u001b[0;34m,\u001b[0m\u001b[0;34m\u001b[0m\u001b[0m\n\u001b[0;32m--> 682\u001b[0;31m                          session=session),\n\u001b[0m\u001b[1;32m    683\u001b[0m             self.write_concern.acknowledged)\n\u001b[1;32m    684\u001b[0m \u001b[0;34m\u001b[0m\u001b[0m\n",
      "\u001b[0;32m/usr/local/lib/python3.5/dist-packages/pymongo/collection.py\u001b[0m in \u001b[0;36m_insert\u001b[0;34m(self, docs, ordered, check_keys, manipulate, write_concern, op_id, bypass_doc_val, session)\u001b[0m\n\u001b[1;32m    596\u001b[0m             return self._insert_one(\n\u001b[1;32m    597\u001b[0m                 \u001b[0mdocs\u001b[0m\u001b[0;34m,\u001b[0m \u001b[0mordered\u001b[0m\u001b[0;34m,\u001b[0m \u001b[0mcheck_keys\u001b[0m\u001b[0;34m,\u001b[0m \u001b[0mmanipulate\u001b[0m\u001b[0;34m,\u001b[0m \u001b[0mwrite_concern\u001b[0m\u001b[0;34m,\u001b[0m \u001b[0mop_id\u001b[0m\u001b[0;34m,\u001b[0m\u001b[0;34m\u001b[0m\u001b[0m\n\u001b[0;32m--> 598\u001b[0;31m                 bypass_doc_val, session)\n\u001b[0m\u001b[1;32m    599\u001b[0m \u001b[0;34m\u001b[0m\u001b[0m\n\u001b[1;32m    600\u001b[0m         \u001b[0mids\u001b[0m \u001b[0;34m=\u001b[0m \u001b[0;34m[\u001b[0m\u001b[0;34m]\u001b[0m\u001b[0;34m\u001b[0m\u001b[0m\n",
      "\u001b[0;32m/usr/local/lib/python3.5/dist-packages/pymongo/collection.py\u001b[0m in \u001b[0;36m_insert_one\u001b[0;34m(self, doc, ordered, check_keys, manipulate, write_concern, op_id, bypass_doc_val, session)\u001b[0m\n\u001b[1;32m    577\u001b[0m             result = self.__database.client._retryable_write(\n\u001b[1;32m    578\u001b[0m                 True, _insert_command, session)\n\u001b[0;32m--> 579\u001b[0;31m             \u001b[0m_check_write_command_response\u001b[0m\u001b[0;34m(\u001b[0m\u001b[0mresult\u001b[0m\u001b[0;34m)\u001b[0m\u001b[0;34m\u001b[0m\u001b[0m\n\u001b[0m\u001b[1;32m    580\u001b[0m         \u001b[0;32melse\u001b[0m\u001b[0;34m:\u001b[0m\u001b[0;34m\u001b[0m\u001b[0m\n\u001b[1;32m    581\u001b[0m             \u001b[0;32mwith\u001b[0m \u001b[0mself\u001b[0m\u001b[0;34m.\u001b[0m\u001b[0m_socket_for_writes\u001b[0m\u001b[0;34m(\u001b[0m\u001b[0;34m)\u001b[0m \u001b[0;32mas\u001b[0m \u001b[0msock_info\u001b[0m\u001b[0;34m:\u001b[0m\u001b[0;34m\u001b[0m\u001b[0m\n",
      "\u001b[0;32m/usr/local/lib/python3.5/dist-packages/pymongo/helpers.py\u001b[0m in \u001b[0;36m_check_write_command_response\u001b[0;34m(result)\u001b[0m\n\u001b[1;32m    206\u001b[0m     \u001b[0mwrite_errors\u001b[0m \u001b[0;34m=\u001b[0m \u001b[0mresult\u001b[0m\u001b[0;34m.\u001b[0m\u001b[0mget\u001b[0m\u001b[0;34m(\u001b[0m\u001b[0;34m\"writeErrors\"\u001b[0m\u001b[0;34m)\u001b[0m\u001b[0;34m\u001b[0m\u001b[0m\n\u001b[1;32m    207\u001b[0m     \u001b[0;32mif\u001b[0m \u001b[0mwrite_errors\u001b[0m\u001b[0;34m:\u001b[0m\u001b[0;34m\u001b[0m\u001b[0m\n\u001b[0;32m--> 208\u001b[0;31m         \u001b[0m_raise_last_write_error\u001b[0m\u001b[0;34m(\u001b[0m\u001b[0mwrite_errors\u001b[0m\u001b[0;34m)\u001b[0m\u001b[0;34m\u001b[0m\u001b[0m\n\u001b[0m\u001b[1;32m    209\u001b[0m \u001b[0;34m\u001b[0m\u001b[0m\n\u001b[1;32m    210\u001b[0m     \u001b[0merror\u001b[0m \u001b[0;34m=\u001b[0m \u001b[0mresult\u001b[0m\u001b[0;34m.\u001b[0m\u001b[0mget\u001b[0m\u001b[0;34m(\u001b[0m\u001b[0;34m\"writeConcernError\"\u001b[0m\u001b[0;34m)\u001b[0m\u001b[0;34m\u001b[0m\u001b[0m\n",
      "\u001b[0;32m/usr/local/lib/python3.5/dist-packages/pymongo/helpers.py\u001b[0m in \u001b[0;36m_raise_last_write_error\u001b[0;34m(write_errors)\u001b[0m\n\u001b[1;32m    187\u001b[0m     \u001b[0merror\u001b[0m \u001b[0;34m=\u001b[0m \u001b[0mwrite_errors\u001b[0m\u001b[0;34m[\u001b[0m\u001b[0;34m-\u001b[0m\u001b[0;36m1\u001b[0m\u001b[0;34m]\u001b[0m\u001b[0;34m\u001b[0m\u001b[0m\n\u001b[1;32m    188\u001b[0m     \u001b[0;32mif\u001b[0m \u001b[0merror\u001b[0m\u001b[0;34m.\u001b[0m\u001b[0mget\u001b[0m\u001b[0;34m(\u001b[0m\u001b[0;34m\"code\"\u001b[0m\u001b[0;34m)\u001b[0m \u001b[0;34m==\u001b[0m \u001b[0;36m11000\u001b[0m\u001b[0;34m:\u001b[0m\u001b[0;34m\u001b[0m\u001b[0m\n\u001b[0;32m--> 189\u001b[0;31m         \u001b[0;32mraise\u001b[0m \u001b[0mDuplicateKeyError\u001b[0m\u001b[0;34m(\u001b[0m\u001b[0merror\u001b[0m\u001b[0;34m.\u001b[0m\u001b[0mget\u001b[0m\u001b[0;34m(\u001b[0m\u001b[0;34m\"errmsg\"\u001b[0m\u001b[0;34m)\u001b[0m\u001b[0;34m,\u001b[0m \u001b[0;36m11000\u001b[0m\u001b[0;34m,\u001b[0m \u001b[0merror\u001b[0m\u001b[0;34m)\u001b[0m\u001b[0;34m\u001b[0m\u001b[0m\n\u001b[0m\u001b[1;32m    190\u001b[0m     \u001b[0;32mraise\u001b[0m \u001b[0mWriteError\u001b[0m\u001b[0;34m(\u001b[0m\u001b[0merror\u001b[0m\u001b[0;34m.\u001b[0m\u001b[0mget\u001b[0m\u001b[0;34m(\u001b[0m\u001b[0;34m\"errmsg\"\u001b[0m\u001b[0;34m)\u001b[0m\u001b[0;34m,\u001b[0m \u001b[0merror\u001b[0m\u001b[0;34m.\u001b[0m\u001b[0mget\u001b[0m\u001b[0;34m(\u001b[0m\u001b[0;34m\"code\"\u001b[0m\u001b[0;34m)\u001b[0m\u001b[0;34m,\u001b[0m \u001b[0merror\u001b[0m\u001b[0;34m)\u001b[0m\u001b[0;34m\u001b[0m\u001b[0m\n\u001b[1;32m    191\u001b[0m \u001b[0;34m\u001b[0m\u001b[0m\n",
      "\u001b[0;31mDuplicateKeyError\u001b[0m: E11000 duplicate key error collection: testuser.cells index: name_1 dup key: { : \"Hippocampus CA1 pyramidal cell\" }"
     ]
    }
   ],
   "source": [
    "cells.insert_one({\n",
    "                  'name': 'Hippocampus CA1 pyramidal cell',\n",
    "                  'average dendrite length': 4586\n",
    "              })"
   ]
  },
  {
   "cell_type": "markdown",
   "metadata": {},
   "source": [
    "<h1>Querying</h1>"
   ]
  },
  {
   "cell_type": "code",
   "execution_count": 13,
   "metadata": {},
   "outputs": [
    {
     "name": "stdout",
     "output_type": "stream",
     "text": [
      "{'_id': ObjectId('5a66698a51290025ab83f860'),\n",
      " 'average dendrite length': 4586,\n",
      " 'channels': ['I Na,t',\n",
      "              'I Na,p',\n",
      "              'I Potassium',\n",
      "              'I A',\n",
      "              'I K',\n",
      "              'I M',\n",
      "              'I L high threshold',\n",
      "              'I N',\n",
      "              'I T low threshold',\n",
      "              'I p,q',\n",
      "              'I K,Ca',\n",
      "              'I h'],\n",
      " 'name': 'Hippocampus CA1 pyramidal cell',\n",
      " 'transmitters': ['NO', 'Glutamate']}\n"
     ]
    }
   ],
   "source": [
    "from pprint import pprint\n",
    "for doc in cells.find({'name': 'Hippocampus CA1 pyramidal cell'}):\n",
    "    pprint(doc)"
   ]
  },
  {
   "cell_type": "markdown",
   "metadata": {},
   "source": [
    "If we know there is only one match (or if all we need is one), we can use <tt>find_one</tt> instead and then no iteration is necessary:"
   ]
  },
  {
   "cell_type": "code",
   "execution_count": 14,
   "metadata": {},
   "outputs": [
    {
     "name": "stdout",
     "output_type": "stream",
     "text": [
      "{'_id': ObjectId('5a66698b51290025ab83f862'),\n",
      " 'average dendrite length': 1000,\n",
      " 'channels': ['I A', 'I N', 'I T low threshold', 'I p,q', 'I CAN', 'I h'],\n",
      " 'excitatory': False,\n",
      " 'name': 'Olfactory granule cell',\n",
      " 'region': 'olfactory bulb',\n",
      " 'transmitters': ['NO', 'Gaba']}\n"
     ]
    }
   ],
   "source": [
    "pprint(cells.find_one({'transmitters': 'Gaba'}))"
   ]
  },
  {
   "cell_type": "markdown",
   "metadata": {},
   "source": [
    "Note that the search found Gaba as one of multiple transmitters. We can perform more complicated queries using <tt>\\$and</tt>, <tt>\\$or</tt>, <tt>\\$not</tt>, <tt>\\$gt</tt>, <tt>\\$in</tt>, <tt>\\$regex</tt> and other <a href=\"https://docs.mongodb.com/manual/reference/operator/query/\">operators</a>."
   ]
  },
  {
   "cell_type": "code",
   "execution_count": 15,
   "metadata": {},
   "outputs": [
    {
     "name": "stdout",
     "output_type": "stream",
     "text": [
      "{'_id': ObjectId('5a66698a51290025ab83f860'),\n",
      " 'average dendrite length': 4586,\n",
      " 'channels': ['I Na,t',\n",
      "              'I Na,p',\n",
      "              'I Potassium',\n",
      "              'I A',\n",
      "              'I K',\n",
      "              'I M',\n",
      "              'I L high threshold',\n",
      "              'I N',\n",
      "              'I T low threshold',\n",
      "              'I p,q',\n",
      "              'I K,Ca',\n",
      "              'I h'],\n",
      " 'name': 'Hippocampus CA1 pyramidal cell',\n",
      " 'transmitters': ['NO', 'Glutamate']}\n",
      "{'_id': ObjectId('5a66698b51290025ab83f861'),\n",
      " 'average dendrite length': 3500,\n",
      " 'channels': ['I Na,t',\n",
      "              'I Na,p',\n",
      "              'I A',\n",
      "              'I K',\n",
      "              'I L high threshold',\n",
      "              'I N',\n",
      "              'I T low threshold',\n",
      "              'I K,Ca',\n",
      "              'I h'],\n",
      " 'excitatory': True,\n",
      " 'name': 'Dentate Gyrus granule cell',\n",
      " 'transmitters': ['Dynorphin', 'Zn2+', 'Glutamate']}\n"
     ]
    }
   ],
   "source": [
    "for doc in cells.find({'$and': [{'channels': 'I A'}, {'channels': 'I L high threshold'}]}):\n",
    "    pprint(doc)"
   ]
  },
  {
   "cell_type": "markdown",
   "metadata": {},
   "source": [
    "<h3>Example of searching for numeric matches in interval:</h3>"
   ]
  },
  {
   "cell_type": "code",
   "execution_count": 16,
   "metadata": {},
   "outputs": [
    {
     "name": "stdout",
     "output_type": "stream",
     "text": [
      "{'_id': ObjectId('5a66698b51290025ab83f862'),\n",
      " 'average dendrite length': 1000,\n",
      " 'channels': ['I A', 'I N', 'I T low threshold', 'I p,q', 'I CAN', 'I h'],\n",
      " 'excitatory': False,\n",
      " 'name': 'Olfactory granule cell',\n",
      " 'region': 'olfactory bulb',\n",
      " 'transmitters': ['NO', 'Gaba']}\n"
     ]
    }
   ],
   "source": [
    "for doc in cells.find({'average dendrite length': {'$lt': 2000}}):\n",
    "    pprint(doc)"
   ]
  },
  {
   "cell_type": "markdown",
   "metadata": {},
   "source": [
    "<h3>Getting distinct results</h3>"
   ]
  },
  {
   "cell_type": "code",
   "execution_count": 17,
   "metadata": {},
   "outputs": [
    {
     "name": "stdout",
     "output_type": "stream",
     "text": [
      "['I A',\n",
      " 'I K',\n",
      " 'I K,Ca',\n",
      " 'I L high threshold',\n",
      " 'I M',\n",
      " 'I N',\n",
      " 'I Na,p',\n",
      " 'I Na,t',\n",
      " 'I Potassium',\n",
      " 'I T low threshold',\n",
      " 'I h',\n",
      " 'I p,q',\n",
      " 'I CAN']\n"
     ]
    }
   ],
   "source": [
    "pprint(cells.find().distinct('channels'))"
   ]
  },
  {
   "cell_type": "markdown",
   "metadata": {},
   "source": [
    "<h3>Sorting results</h3>"
   ]
  },
  {
   "cell_type": "markdown",
   "metadata": {},
   "source": [
    "We can sort the results of a search based on a field or fields. We use 1 to indicate ascending order, -1 to indicate descending order."
   ]
  },
  {
   "cell_type": "code",
   "execution_count": 18,
   "metadata": {},
   "outputs": [
    {
     "name": "stdout",
     "output_type": "stream",
     "text": [
      "Olfactory granule cell               1000\n",
      "Dentate Gyrus granule cell           3500\n",
      "Hippocampus CA1 pyramidal cell       4586\n"
     ]
    }
   ],
   "source": [
    "for cell in cells.find().sort([('average dendrite length', 1)]):\n",
    "    print('{name:35} {average dendrite length:5}'.format(**cell))"
   ]
  },
  {
   "cell_type": "code",
   "execution_count": 19,
   "metadata": {},
   "outputs": [
    {
     "name": "stdout",
     "output_type": "stream",
     "text": [
      "Hippocampus CA1 pyramidal cell       4586\n",
      "Dentate Gyrus granule cell           3500\n",
      "Olfactory granule cell               1000\n"
     ]
    }
   ],
   "source": [
    "for cell in cells.find().sort([('average dendrite length', -1)]):\n",
    "    print('{name:35} {average dendrite length:5}'.format(**cell))"
   ]
  },
  {
   "cell_type": "markdown",
   "metadata": {},
   "source": [
    "Part of the reason that this works is that the queries don't return a list; they return a <b>cursor</b> object which allows extracting part of the results."
   ]
  },
  {
   "cell_type": "code",
   "execution_count": 20,
   "metadata": {},
   "outputs": [
    {
     "data": {
      "text/plain": [
       "pymongo.cursor.Cursor"
      ]
     },
     "execution_count": 20,
     "metadata": {},
     "output_type": "execute_result"
    }
   ],
   "source": [
    "type(cells.find())"
   ]
  },
  {
   "cell_type": "markdown",
   "metadata": {},
   "source": [
    "This doesn't stop you, however from grabbing a specific item or slice. This is most useful, for example, if in the above we only wanted to receive (from the database) the 2 cells with the longest combined dendritic length. Unlike if a list was sent, using a cursor means no additional data would be sent, so we don't have to deal with bandwidth or sorting it on our local machine. We can also use this to <b>page</b> the results."
   ]
  },
  {
   "cell_type": "code",
   "execution_count": 21,
   "metadata": {},
   "outputs": [
    {
     "name": "stdout",
     "output_type": "stream",
     "text": [
      "Hippocampus CA1 pyramidal cell\n",
      "Dentate Gyrus granule cell\n"
     ]
    }
   ],
   "source": [
    "for cell in cells.find().sort([('average dendrite length', -1)])[:2]:\n",
    "    print(cell['name'])"
   ]
  },
  {
   "cell_type": "markdown",
   "metadata": {},
   "source": [
    "<h1>Update</h1>\n",
    "<h3>Basic use</h3>\n",
    "<p>Let's declare a region for the cells in the hippocampus, which here we'll select with a regular expression:</p>"
   ]
  },
  {
   "cell_type": "code",
   "execution_count": 22,
   "metadata": {},
   "outputs": [
    {
     "data": {
      "text/plain": [
       "<pymongo.results.UpdateResult at 0x7f3af0a07a08>"
      ]
     },
     "execution_count": 22,
     "metadata": {},
     "output_type": "execute_result"
    }
   ],
   "source": [
    "cells.update_many({'name': {'$regex': '(Hippocampus|Dentate)'}},\n",
    "                  {'$set': {'region': 'hippocampus'}})"
   ]
  },
  {
   "cell_type": "markdown",
   "metadata": {},
   "source": [
    "There is also an <tt>upsert</tt> command that updates entries if it finds a matching one or inserts a new entry if no matching one already exists."
   ]
  },
  {
   "cell_type": "markdown",
   "metadata": {},
   "source": [
    "<h3>Numeric updates</h3> "
   ]
  },
  {
   "cell_type": "markdown",
   "metadata": {},
   "source": [
    "<p>Suppose for some reason we wanted to convert all dendritic lengths from microns to mm; that is we must multiply them by 0.001. Fortunately, MongoDB provides <a href=\"https://docs.mongodb.com/manual/reference/operator/update-field/\">quantitative</a> update operators such as \\$inc and \\$mul. </p>"
   ]
  },
  {
   "cell_type": "code",
   "execution_count": 23,
   "metadata": {},
   "outputs": [
    {
     "data": {
      "text/plain": [
       "<pymongo.results.UpdateResult at 0x7f3af0a02088>"
      ]
     },
     "execution_count": 23,
     "metadata": {},
     "output_type": "execute_result"
    }
   ],
   "source": [
    "cells.update_many({},\n",
    "                 {'$mul': {'average dendrite length': 0.001}})"
   ]
  },
  {
   "cell_type": "markdown",
   "metadata": {},
   "source": [
    "Let's see the results:"
   ]
  },
  {
   "cell_type": "code",
   "execution_count": 24,
   "metadata": {},
   "outputs": [
    {
     "name": "stdout",
     "output_type": "stream",
     "text": [
      "Hippocampus CA1 pyramidal cell         4.586 mm\n",
      "Dentate Gyrus granule cell               3.5 mm\n",
      "Olfactory granule cell                   1.0 mm\n"
     ]
    }
   ],
   "source": [
    "for cell in cells.find():\n",
    "    print('{name:35} {average dendrite length:8} mm'.format(**cell))"
   ]
  },
  {
   "cell_type": "markdown",
   "metadata": {},
   "source": [
    "<h3>Updating within an array</h3>\n",
    "<p>If you use <tt>\\$set</tt> a field, you'll replace the entire field. To replace a matched field within an array, use <tt>.\\$</tt></p>"
   ]
  },
  {
   "cell_type": "code",
   "execution_count": 25,
   "metadata": {},
   "outputs": [
    {
     "data": {
      "text/plain": [
       "<pymongo.results.UpdateResult at 0x7f3af0a0aa08>"
      ]
     },
     "execution_count": 25,
     "metadata": {},
     "output_type": "execute_result"
    }
   ],
   "source": [
    "cells.update_many({'transmitters': 'Gaba'},\n",
    "                  {'$set': {'transmitters.$': 'GABA'}}\n",
    ")"
   ]
  },
  {
   "cell_type": "markdown",
   "metadata": {},
   "source": [
    "Let's check that (1) Gaba has been replaced by GABA and (2) transmitters is still an array."
   ]
  },
  {
   "cell_type": "code",
   "execution_count": 26,
   "metadata": {},
   "outputs": [
    {
     "name": "stdout",
     "output_type": "stream",
     "text": [
      "Hippocampus CA1 pyramidal cell           ['NO', 'Glutamate']                \n",
      "Dentate Gyrus granule cell               ['Dynorphin', 'Zn2+', 'Glutamate'] \n",
      "Olfactory granule cell                   ['NO', 'GABA']                     \n"
     ]
    }
   ],
   "source": [
    "for cell in cells.find():\n",
    "    print('{name:40} {transmitters!r:35}'.format(**cell))"
   ]
  },
  {
   "cell_type": "markdown",
   "metadata": {},
   "source": [
    "It worked (see the entry for \"Olfactory granule cell\" above). Although GABA appears only once in our test dataset, it is a common neurotransmitter."
   ]
  },
  {
   "cell_type": "markdown",
   "metadata": {},
   "source": [
    "<h1>Validating documents (applying a schema)</h1>\n",
    "<p>While one of the advantages of MongoDB is that it does not <i>require</i> specifying a schema,\n",
    "    it <i>allows</i> specifying one using the (draft) standard <a href=\"http://json-schema.org/\">JSON Schema</a>\n",
    "    (see link for specification and examples). Letting the database handle validation simplifies your program\n",
    "    logic.</p>\n",
    "<p>\n",
    "    To define a schema for a collection, we must explicitly create the collection (instead of implicitly) and\n",
    "    specify a <tt>$jsonSchema</tt> validator. Here we define a collection whose documents must contain at least two\n",
    "    fields and both fields must be strings:\n",
    "</p>"
   ]
  },
  {
   "cell_type": "code",
   "execution_count": 27,
   "metadata": {},
   "outputs": [
    {
     "data": {
      "text/plain": [
       "Collection(Database(MongoClient(host=['localhost:27017'], document_class=dict, tz_aware=False, connect=True, authsource='testuser'), 'testuser'), 'functions')"
      ]
     },
     "execution_count": 27,
     "metadata": {},
     "output_type": "execute_result"
    }
   ],
   "source": [
    "mydb.create_collection('functions', validator={\n",
    "    '$jsonSchema': {\n",
    "        'required': ['name', 'function'],\n",
    "        'properties': {\n",
    "            'name': {\n",
    "                'bsonType': 'string',\n",
    "                'description': 'name of the brain region; required string'\n",
    "            },\n",
    "            'function': {\n",
    "                'bsonType': 'string',\n",
    "                'description': 'function of the brain region; required string'\n",
    "            }\n",
    "        }        \n",
    "    }\n",
    "})"
   ]
  },
  {
   "cell_type": "markdown",
   "metadata": {},
   "source": [
    "Attempting to insert a document without the required properties or with entries of the wrong datatype raises a <tt>WriteError</tt> Exception:"
   ]
  },
  {
   "cell_type": "code",
   "execution_count": 28,
   "metadata": {},
   "outputs": [
    {
     "ename": "WriteError",
     "evalue": "Document failed validation",
     "output_type": "error",
     "traceback": [
      "\u001b[0;31m---------------------------------------------------------------------------\u001b[0m",
      "\u001b[0;31mWriteError\u001b[0m                                Traceback (most recent call last)",
      "\u001b[0;32m<ipython-input-28-9b75bb1ac930>\u001b[0m in \u001b[0;36m<module>\u001b[0;34m()\u001b[0m\n\u001b[0;32m----> 1\u001b[0;31m \u001b[0mmydb\u001b[0m\u001b[0;34m.\u001b[0m\u001b[0mfunctions\u001b[0m\u001b[0;34m.\u001b[0m\u001b[0minsert_one\u001b[0m\u001b[0;34m(\u001b[0m\u001b[0;34m{\u001b[0m\u001b[0;34m'name'\u001b[0m\u001b[0;34m:\u001b[0m \u001b[0;34m'olfactory bulb'\u001b[0m\u001b[0;34m}\u001b[0m\u001b[0;34m)\u001b[0m\u001b[0;34m\u001b[0m\u001b[0m\n\u001b[0m",
      "\u001b[0;32m/usr/local/lib/python3.5/dist-packages/pymongo/collection.py\u001b[0m in \u001b[0;36minsert_one\u001b[0;34m(self, document, bypass_document_validation, session)\u001b[0m\n\u001b[1;32m    680\u001b[0m             self._insert(document,\n\u001b[1;32m    681\u001b[0m                          \u001b[0mbypass_doc_val\u001b[0m\u001b[0;34m=\u001b[0m\u001b[0mbypass_document_validation\u001b[0m\u001b[0;34m,\u001b[0m\u001b[0;34m\u001b[0m\u001b[0m\n\u001b[0;32m--> 682\u001b[0;31m                          session=session),\n\u001b[0m\u001b[1;32m    683\u001b[0m             self.write_concern.acknowledged)\n\u001b[1;32m    684\u001b[0m \u001b[0;34m\u001b[0m\u001b[0m\n",
      "\u001b[0;32m/usr/local/lib/python3.5/dist-packages/pymongo/collection.py\u001b[0m in \u001b[0;36m_insert\u001b[0;34m(self, docs, ordered, check_keys, manipulate, write_concern, op_id, bypass_doc_val, session)\u001b[0m\n\u001b[1;32m    596\u001b[0m             return self._insert_one(\n\u001b[1;32m    597\u001b[0m                 \u001b[0mdocs\u001b[0m\u001b[0;34m,\u001b[0m \u001b[0mordered\u001b[0m\u001b[0;34m,\u001b[0m \u001b[0mcheck_keys\u001b[0m\u001b[0;34m,\u001b[0m \u001b[0mmanipulate\u001b[0m\u001b[0;34m,\u001b[0m \u001b[0mwrite_concern\u001b[0m\u001b[0;34m,\u001b[0m \u001b[0mop_id\u001b[0m\u001b[0;34m,\u001b[0m\u001b[0;34m\u001b[0m\u001b[0m\n\u001b[0;32m--> 598\u001b[0;31m                 bypass_doc_val, session)\n\u001b[0m\u001b[1;32m    599\u001b[0m \u001b[0;34m\u001b[0m\u001b[0m\n\u001b[1;32m    600\u001b[0m         \u001b[0mids\u001b[0m \u001b[0;34m=\u001b[0m \u001b[0;34m[\u001b[0m\u001b[0;34m]\u001b[0m\u001b[0;34m\u001b[0m\u001b[0m\n",
      "\u001b[0;32m/usr/local/lib/python3.5/dist-packages/pymongo/collection.py\u001b[0m in \u001b[0;36m_insert_one\u001b[0;34m(self, doc, ordered, check_keys, manipulate, write_concern, op_id, bypass_doc_val, session)\u001b[0m\n\u001b[1;32m    577\u001b[0m             result = self.__database.client._retryable_write(\n\u001b[1;32m    578\u001b[0m                 True, _insert_command, session)\n\u001b[0;32m--> 579\u001b[0;31m             \u001b[0m_check_write_command_response\u001b[0m\u001b[0;34m(\u001b[0m\u001b[0mresult\u001b[0m\u001b[0;34m)\u001b[0m\u001b[0;34m\u001b[0m\u001b[0m\n\u001b[0m\u001b[1;32m    580\u001b[0m         \u001b[0;32melse\u001b[0m\u001b[0;34m:\u001b[0m\u001b[0;34m\u001b[0m\u001b[0m\n\u001b[1;32m    581\u001b[0m             \u001b[0;32mwith\u001b[0m \u001b[0mself\u001b[0m\u001b[0;34m.\u001b[0m\u001b[0m_socket_for_writes\u001b[0m\u001b[0;34m(\u001b[0m\u001b[0;34m)\u001b[0m \u001b[0;32mas\u001b[0m \u001b[0msock_info\u001b[0m\u001b[0;34m:\u001b[0m\u001b[0;34m\u001b[0m\u001b[0m\n",
      "\u001b[0;32m/usr/local/lib/python3.5/dist-packages/pymongo/helpers.py\u001b[0m in \u001b[0;36m_check_write_command_response\u001b[0;34m(result)\u001b[0m\n\u001b[1;32m    206\u001b[0m     \u001b[0mwrite_errors\u001b[0m \u001b[0;34m=\u001b[0m \u001b[0mresult\u001b[0m\u001b[0;34m.\u001b[0m\u001b[0mget\u001b[0m\u001b[0;34m(\u001b[0m\u001b[0;34m\"writeErrors\"\u001b[0m\u001b[0;34m)\u001b[0m\u001b[0;34m\u001b[0m\u001b[0m\n\u001b[1;32m    207\u001b[0m     \u001b[0;32mif\u001b[0m \u001b[0mwrite_errors\u001b[0m\u001b[0;34m:\u001b[0m\u001b[0;34m\u001b[0m\u001b[0m\n\u001b[0;32m--> 208\u001b[0;31m         \u001b[0m_raise_last_write_error\u001b[0m\u001b[0;34m(\u001b[0m\u001b[0mwrite_errors\u001b[0m\u001b[0;34m)\u001b[0m\u001b[0;34m\u001b[0m\u001b[0m\n\u001b[0m\u001b[1;32m    209\u001b[0m \u001b[0;34m\u001b[0m\u001b[0m\n\u001b[1;32m    210\u001b[0m     \u001b[0merror\u001b[0m \u001b[0;34m=\u001b[0m \u001b[0mresult\u001b[0m\u001b[0;34m.\u001b[0m\u001b[0mget\u001b[0m\u001b[0;34m(\u001b[0m\u001b[0;34m\"writeConcernError\"\u001b[0m\u001b[0;34m)\u001b[0m\u001b[0;34m\u001b[0m\u001b[0m\n",
      "\u001b[0;32m/usr/local/lib/python3.5/dist-packages/pymongo/helpers.py\u001b[0m in \u001b[0;36m_raise_last_write_error\u001b[0;34m(write_errors)\u001b[0m\n\u001b[1;32m    188\u001b[0m     \u001b[0;32mif\u001b[0m \u001b[0merror\u001b[0m\u001b[0;34m.\u001b[0m\u001b[0mget\u001b[0m\u001b[0;34m(\u001b[0m\u001b[0;34m\"code\"\u001b[0m\u001b[0;34m)\u001b[0m \u001b[0;34m==\u001b[0m \u001b[0;36m11000\u001b[0m\u001b[0;34m:\u001b[0m\u001b[0;34m\u001b[0m\u001b[0m\n\u001b[1;32m    189\u001b[0m         \u001b[0;32mraise\u001b[0m \u001b[0mDuplicateKeyError\u001b[0m\u001b[0;34m(\u001b[0m\u001b[0merror\u001b[0m\u001b[0;34m.\u001b[0m\u001b[0mget\u001b[0m\u001b[0;34m(\u001b[0m\u001b[0;34m\"errmsg\"\u001b[0m\u001b[0;34m)\u001b[0m\u001b[0;34m,\u001b[0m \u001b[0;36m11000\u001b[0m\u001b[0;34m,\u001b[0m \u001b[0merror\u001b[0m\u001b[0;34m)\u001b[0m\u001b[0;34m\u001b[0m\u001b[0m\n\u001b[0;32m--> 190\u001b[0;31m     \u001b[0;32mraise\u001b[0m \u001b[0mWriteError\u001b[0m\u001b[0;34m(\u001b[0m\u001b[0merror\u001b[0m\u001b[0;34m.\u001b[0m\u001b[0mget\u001b[0m\u001b[0;34m(\u001b[0m\u001b[0;34m\"errmsg\"\u001b[0m\u001b[0;34m)\u001b[0m\u001b[0;34m,\u001b[0m \u001b[0merror\u001b[0m\u001b[0;34m.\u001b[0m\u001b[0mget\u001b[0m\u001b[0;34m(\u001b[0m\u001b[0;34m\"code\"\u001b[0m\u001b[0;34m)\u001b[0m\u001b[0;34m,\u001b[0m \u001b[0merror\u001b[0m\u001b[0;34m)\u001b[0m\u001b[0;34m\u001b[0m\u001b[0m\n\u001b[0m\u001b[1;32m    191\u001b[0m \u001b[0;34m\u001b[0m\u001b[0m\n\u001b[1;32m    192\u001b[0m \u001b[0;34m\u001b[0m\u001b[0m\n",
      "\u001b[0;31mWriteError\u001b[0m: Document failed validation"
     ]
    }
   ],
   "source": [
    "mydb.functions.insert_one({'name': 'olfactory bulb'})"
   ]
  },
  {
   "cell_type": "markdown",
   "metadata": {},
   "source": [
    "Inserting matching documents, however, succeeds."
   ]
  },
  {
   "cell_type": "code",
   "execution_count": 29,
   "metadata": {},
   "outputs": [
    {
     "data": {
      "text/plain": [
       "<pymongo.results.InsertManyResult at 0x7f3af0a0afc8>"
      ]
     },
     "execution_count": 29,
     "metadata": {},
     "output_type": "execute_result"
    }
   ],
   "source": [
    "mydb.functions.insert_many([\n",
    "    {\n",
    "        'name': 'olfactory bulb',\n",
    "        'function': 'olfaction'\n",
    "    },\n",
    "    {\n",
    "        'name': 'hippocampus',\n",
    "        'function': 'learning and memory'\n",
    "    }])"
   ]
  },
  {
   "cell_type": "markdown",
   "metadata": {},
   "source": [
    "Significantly more complicated validation is possible. See the <a href=\"http://json-schema.org/\">JSON Schema</a> website, the <a href=\"https://docs.mongodb.com/manual/reference/operator/query/jsonSchema/\">MongoDB documentation</a> (in JavaScript not Python, but the syntax is analagous), and elsewhere. You may be asked to build more complicated schema from the information at these links for the homework."
   ]
  },
  {
   "cell_type": "markdown",
   "metadata": {},
   "source": [
    "<h1>Joining documents</h1>\n",
    "<p>Now, let's cross-reference each of our cells with the corresponding brain region functions. (Here we use a <tt>break</tt> to stop printing after the first cell, but otherwise the loop would print out an entry for every cell; try it!)</p>"
   ]
  },
  {
   "cell_type": "code",
   "execution_count": 30,
   "metadata": {},
   "outputs": [
    {
     "name": "stdout",
     "output_type": "stream",
     "text": [
      "{'_id': ObjectId('5a66698a51290025ab83f860'),\n",
      " 'average dendrite length': 4.586,\n",
      " 'cellFunctions': [{'_id': ObjectId('5a6669ad51290025ab83f866'),\n",
      "                    'function': 'learning and memory',\n",
      "                    'name': 'hippocampus'}],\n",
      " 'channels': ['I Na,t',\n",
      "              'I Na,p',\n",
      "              'I Potassium',\n",
      "              'I A',\n",
      "              'I K',\n",
      "              'I M',\n",
      "              'I L high threshold',\n",
      "              'I N',\n",
      "              'I T low threshold',\n",
      "              'I p,q',\n",
      "              'I K,Ca',\n",
      "              'I h'],\n",
      " 'name': 'Hippocampus CA1 pyramidal cell',\n",
      " 'region': 'hippocampus',\n",
      " 'transmitters': ['NO', 'Glutamate']}\n"
     ]
    }
   ],
   "source": [
    "for cell in cells.aggregate([\n",
    "        {\n",
    "            '$lookup':\n",
    "            {\n",
    "                'from': 'functions',\n",
    "                'localField': 'region',\n",
    "                'foreignField': 'name',\n",
    "                'as': 'cellFunctions'\n",
    "            }\n",
    "        }\n",
    "    ]):\n",
    "    pprint(cell)\n",
    "    break"
   ]
  },
  {
   "cell_type": "markdown",
   "metadata": {},
   "source": [
    "Here the entire function document got embedded into the cell. Sometimes this is what you want. Othertimes you may want to extract just a certain piece of information. To do this use a <b>projection</b>, which will allow you to drop, include, add, or rename fields:"
   ]
  },
  {
   "cell_type": "code",
   "execution_count": 31,
   "metadata": {},
   "outputs": [
    {
     "name": "stdout",
     "output_type": "stream",
     "text": [
      "{'functions': ['learning and memory'], 'name': 'Hippocampus CA1 pyramidal cell'}\n",
      "{'functions': ['learning and memory'], 'name': 'Dentate Gyrus granule cell'}\n",
      "{'functions': ['olfaction'], 'name': 'Olfactory granule cell'}\n"
     ]
    }
   ],
   "source": [
    "for cell in cells.aggregate([\n",
    "        {\n",
    "            '$lookup':\n",
    "            {\n",
    "                'from': 'functions',\n",
    "                'localField': 'region',\n",
    "                'foreignField': 'name',\n",
    "                'as': 'cellFunctions'\n",
    "            }\n",
    "        },\n",
    "        {\n",
    "            '$project':\n",
    "            {\n",
    "                '_id': False,\n",
    "                'name': True,\n",
    "                'functions': '$cellFunctions.function'\n",
    "            }\n",
    "        }\n",
    "    ]):\n",
    "    pprint(cell)\n"
   ]
  },
  {
   "cell_type": "markdown",
   "metadata": {},
   "source": [
    "<h1>Aggregation</h1>\n",
    "<p>Joining is a special case of MongoDB's aggregation pipeline which allows you to combine documents, do certain calculations, group data (\\$group), etc. For more, see the <a href=\"http://api.mongodb.com/python/current/examples/aggregation.html\">PyMongo aggregation</a> documentation.</p>\n",
    "<p>Continuing the previous example, suppose I only wanted to know the functions for cells in the hippocampus. In that case, I'll begin by doing a <tt>\\$match</tt> to find just those cells before doing the <tt>\\$lookup</tt>. The arguments to <tt>\\$match</tt> are the same as you would send to <tt>find_many</tt>.</p>"
   ]
  },
  {
   "cell_type": "code",
   "execution_count": 32,
   "metadata": {},
   "outputs": [
    {
     "name": "stdout",
     "output_type": "stream",
     "text": [
      "{'functions': ['learning and memory'], 'name': 'Hippocampus CA1 pyramidal cell'}\n",
      "{'functions': ['learning and memory'], 'name': 'Dentate Gyrus granule cell'}\n"
     ]
    }
   ],
   "source": [
    "for cell in cells.aggregate([\n",
    "        {\n",
    "            '$match':\n",
    "            {\n",
    "                'region': 'hippocampus'\n",
    "            }\n",
    "        },\n",
    "        {\n",
    "            '$lookup':\n",
    "            {\n",
    "                'from': 'functions',\n",
    "                'localField': 'region',\n",
    "                'foreignField': 'name',\n",
    "                'as': 'cellFunctions'\n",
    "            }\n",
    "        },\n",
    "        {\n",
    "            '$project':\n",
    "            {\n",
    "                '_id': False,\n",
    "                'name': True,\n",
    "                'functions': '$cellFunctions.function'\n",
    "            }\n",
    "        }\n",
    "    ]):\n",
    "    pprint(cell)\n"
   ]
  },
  {
   "cell_type": "markdown",
   "metadata": {},
   "source": [
    "Suppose we want to get a count of the number of times a given channel appears. We begin by <tt>\\$unwind</tt>ing the channels array. This creates one virtual document for each channel. (If we didn't do this, we'd count the number of times a particular set of channels appears. This is interesting information, but not what we want here.)"
   ]
  },
  {
   "cell_type": "code",
   "execution_count": 33,
   "metadata": {},
   "outputs": [
    {
     "data": {
      "text/plain": [
       "[{'_id': ObjectId('5a66698a51290025ab83f860'),\n",
       "  'average dendrite length': 4.586,\n",
       "  'channels': 'I Na,t',\n",
       "  'name': 'Hippocampus CA1 pyramidal cell',\n",
       "  'region': 'hippocampus',\n",
       "  'transmitters': ['NO', 'Glutamate']},\n",
       " {'_id': ObjectId('5a66698a51290025ab83f860'),\n",
       "  'average dendrite length': 4.586,\n",
       "  'channels': 'I Na,p',\n",
       "  'name': 'Hippocampus CA1 pyramidal cell',\n",
       "  'region': 'hippocampus',\n",
       "  'transmitters': ['NO', 'Glutamate']},\n",
       " {'_id': ObjectId('5a66698a51290025ab83f860'),\n",
       "  'average dendrite length': 4.586,\n",
       "  'channels': 'I Potassium',\n",
       "  'name': 'Hippocampus CA1 pyramidal cell',\n",
       "  'region': 'hippocampus',\n",
       "  'transmitters': ['NO', 'Glutamate']},\n",
       " {'_id': ObjectId('5a66698a51290025ab83f860'),\n",
       "  'average dendrite length': 4.586,\n",
       "  'channels': 'I A',\n",
       "  'name': 'Hippocampus CA1 pyramidal cell',\n",
       "  'region': 'hippocampus',\n",
       "  'transmitters': ['NO', 'Glutamate']},\n",
       " {'_id': ObjectId('5a66698a51290025ab83f860'),\n",
       "  'average dendrite length': 4.586,\n",
       "  'channels': 'I K',\n",
       "  'name': 'Hippocampus CA1 pyramidal cell',\n",
       "  'region': 'hippocampus',\n",
       "  'transmitters': ['NO', 'Glutamate']},\n",
       " {'_id': ObjectId('5a66698a51290025ab83f860'),\n",
       "  'average dendrite length': 4.586,\n",
       "  'channels': 'I M',\n",
       "  'name': 'Hippocampus CA1 pyramidal cell',\n",
       "  'region': 'hippocampus',\n",
       "  'transmitters': ['NO', 'Glutamate']},\n",
       " {'_id': ObjectId('5a66698a51290025ab83f860'),\n",
       "  'average dendrite length': 4.586,\n",
       "  'channels': 'I L high threshold',\n",
       "  'name': 'Hippocampus CA1 pyramidal cell',\n",
       "  'region': 'hippocampus',\n",
       "  'transmitters': ['NO', 'Glutamate']},\n",
       " {'_id': ObjectId('5a66698a51290025ab83f860'),\n",
       "  'average dendrite length': 4.586,\n",
       "  'channels': 'I N',\n",
       "  'name': 'Hippocampus CA1 pyramidal cell',\n",
       "  'region': 'hippocampus',\n",
       "  'transmitters': ['NO', 'Glutamate']},\n",
       " {'_id': ObjectId('5a66698a51290025ab83f860'),\n",
       "  'average dendrite length': 4.586,\n",
       "  'channels': 'I T low threshold',\n",
       "  'name': 'Hippocampus CA1 pyramidal cell',\n",
       "  'region': 'hippocampus',\n",
       "  'transmitters': ['NO', 'Glutamate']},\n",
       " {'_id': ObjectId('5a66698a51290025ab83f860'),\n",
       "  'average dendrite length': 4.586,\n",
       "  'channels': 'I p,q',\n",
       "  'name': 'Hippocampus CA1 pyramidal cell',\n",
       "  'region': 'hippocampus',\n",
       "  'transmitters': ['NO', 'Glutamate']},\n",
       " {'_id': ObjectId('5a66698a51290025ab83f860'),\n",
       "  'average dendrite length': 4.586,\n",
       "  'channels': 'I K,Ca',\n",
       "  'name': 'Hippocampus CA1 pyramidal cell',\n",
       "  'region': 'hippocampus',\n",
       "  'transmitters': ['NO', 'Glutamate']},\n",
       " {'_id': ObjectId('5a66698a51290025ab83f860'),\n",
       "  'average dendrite length': 4.586,\n",
       "  'channels': 'I h',\n",
       "  'name': 'Hippocampus CA1 pyramidal cell',\n",
       "  'region': 'hippocampus',\n",
       "  'transmitters': ['NO', 'Glutamate']},\n",
       " {'_id': ObjectId('5a66698b51290025ab83f861'),\n",
       "  'average dendrite length': 3.5,\n",
       "  'channels': 'I Na,t',\n",
       "  'excitatory': True,\n",
       "  'name': 'Dentate Gyrus granule cell',\n",
       "  'region': 'hippocampus',\n",
       "  'transmitters': ['Dynorphin', 'Zn2+', 'Glutamate']},\n",
       " {'_id': ObjectId('5a66698b51290025ab83f861'),\n",
       "  'average dendrite length': 3.5,\n",
       "  'channels': 'I Na,p',\n",
       "  'excitatory': True,\n",
       "  'name': 'Dentate Gyrus granule cell',\n",
       "  'region': 'hippocampus',\n",
       "  'transmitters': ['Dynorphin', 'Zn2+', 'Glutamate']},\n",
       " {'_id': ObjectId('5a66698b51290025ab83f861'),\n",
       "  'average dendrite length': 3.5,\n",
       "  'channels': 'I A',\n",
       "  'excitatory': True,\n",
       "  'name': 'Dentate Gyrus granule cell',\n",
       "  'region': 'hippocampus',\n",
       "  'transmitters': ['Dynorphin', 'Zn2+', 'Glutamate']},\n",
       " {'_id': ObjectId('5a66698b51290025ab83f861'),\n",
       "  'average dendrite length': 3.5,\n",
       "  'channels': 'I K',\n",
       "  'excitatory': True,\n",
       "  'name': 'Dentate Gyrus granule cell',\n",
       "  'region': 'hippocampus',\n",
       "  'transmitters': ['Dynorphin', 'Zn2+', 'Glutamate']},\n",
       " {'_id': ObjectId('5a66698b51290025ab83f861'),\n",
       "  'average dendrite length': 3.5,\n",
       "  'channels': 'I L high threshold',\n",
       "  'excitatory': True,\n",
       "  'name': 'Dentate Gyrus granule cell',\n",
       "  'region': 'hippocampus',\n",
       "  'transmitters': ['Dynorphin', 'Zn2+', 'Glutamate']},\n",
       " {'_id': ObjectId('5a66698b51290025ab83f861'),\n",
       "  'average dendrite length': 3.5,\n",
       "  'channels': 'I N',\n",
       "  'excitatory': True,\n",
       "  'name': 'Dentate Gyrus granule cell',\n",
       "  'region': 'hippocampus',\n",
       "  'transmitters': ['Dynorphin', 'Zn2+', 'Glutamate']},\n",
       " {'_id': ObjectId('5a66698b51290025ab83f861'),\n",
       "  'average dendrite length': 3.5,\n",
       "  'channels': 'I T low threshold',\n",
       "  'excitatory': True,\n",
       "  'name': 'Dentate Gyrus granule cell',\n",
       "  'region': 'hippocampus',\n",
       "  'transmitters': ['Dynorphin', 'Zn2+', 'Glutamate']},\n",
       " {'_id': ObjectId('5a66698b51290025ab83f861'),\n",
       "  'average dendrite length': 3.5,\n",
       "  'channels': 'I K,Ca',\n",
       "  'excitatory': True,\n",
       "  'name': 'Dentate Gyrus granule cell',\n",
       "  'region': 'hippocampus',\n",
       "  'transmitters': ['Dynorphin', 'Zn2+', 'Glutamate']},\n",
       " {'_id': ObjectId('5a66698b51290025ab83f861'),\n",
       "  'average dendrite length': 3.5,\n",
       "  'channels': 'I h',\n",
       "  'excitatory': True,\n",
       "  'name': 'Dentate Gyrus granule cell',\n",
       "  'region': 'hippocampus',\n",
       "  'transmitters': ['Dynorphin', 'Zn2+', 'Glutamate']},\n",
       " {'_id': ObjectId('5a66698b51290025ab83f862'),\n",
       "  'average dendrite length': 1.0,\n",
       "  'channels': 'I A',\n",
       "  'excitatory': False,\n",
       "  'name': 'Olfactory granule cell',\n",
       "  'region': 'olfactory bulb',\n",
       "  'transmitters': ['NO', 'GABA']},\n",
       " {'_id': ObjectId('5a66698b51290025ab83f862'),\n",
       "  'average dendrite length': 1.0,\n",
       "  'channels': 'I N',\n",
       "  'excitatory': False,\n",
       "  'name': 'Olfactory granule cell',\n",
       "  'region': 'olfactory bulb',\n",
       "  'transmitters': ['NO', 'GABA']},\n",
       " {'_id': ObjectId('5a66698b51290025ab83f862'),\n",
       "  'average dendrite length': 1.0,\n",
       "  'channels': 'I T low threshold',\n",
       "  'excitatory': False,\n",
       "  'name': 'Olfactory granule cell',\n",
       "  'region': 'olfactory bulb',\n",
       "  'transmitters': ['NO', 'GABA']},\n",
       " {'_id': ObjectId('5a66698b51290025ab83f862'),\n",
       "  'average dendrite length': 1.0,\n",
       "  'channels': 'I p,q',\n",
       "  'excitatory': False,\n",
       "  'name': 'Olfactory granule cell',\n",
       "  'region': 'olfactory bulb',\n",
       "  'transmitters': ['NO', 'GABA']},\n",
       " {'_id': ObjectId('5a66698b51290025ab83f862'),\n",
       "  'average dendrite length': 1.0,\n",
       "  'channels': 'I CAN',\n",
       "  'excitatory': False,\n",
       "  'name': 'Olfactory granule cell',\n",
       "  'region': 'olfactory bulb',\n",
       "  'transmitters': ['NO', 'GABA']},\n",
       " {'_id': ObjectId('5a66698b51290025ab83f862'),\n",
       "  'average dendrite length': 1.0,\n",
       "  'channels': 'I h',\n",
       "  'excitatory': False,\n",
       "  'name': 'Olfactory granule cell',\n",
       "  'region': 'olfactory bulb',\n",
       "  'transmitters': ['NO', 'GABA']}]"
      ]
     },
     "execution_count": 33,
     "metadata": {},
     "output_type": "execute_result"
    }
   ],
   "source": [
    "list(cells.aggregate([\n",
    "        {\n",
    "            '$unwind': '$channels'\n",
    "        }\n",
    "    ]))"
   ]
  },
  {
   "cell_type": "markdown",
   "metadata": {},
   "source": [
    "Now let's <tt>\\$group</tt> by channels (which is now a single item) and create a new count field that sums up 1 for each document:"
   ]
  },
  {
   "cell_type": "code",
   "execution_count": 34,
   "metadata": {},
   "outputs": [
    {
     "data": {
      "text/plain": [
       "[{'_id': 'I CAN', 'count': 1},\n",
       " {'_id': 'I h', 'count': 3},\n",
       " {'_id': 'I K,Ca', 'count': 2},\n",
       " {'_id': 'I Na,p', 'count': 2},\n",
       " {'_id': 'I A', 'count': 3},\n",
       " {'_id': 'I N', 'count': 3},\n",
       " {'_id': 'I Na,t', 'count': 2},\n",
       " {'_id': 'I T low threshold', 'count': 3},\n",
       " {'_id': 'I K', 'count': 2},\n",
       " {'_id': 'I L high threshold', 'count': 2},\n",
       " {'_id': 'I Potassium', 'count': 1},\n",
       " {'_id': 'I p,q', 'count': 2},\n",
       " {'_id': 'I M', 'count': 1}]"
      ]
     },
     "execution_count": 34,
     "metadata": {},
     "output_type": "execute_result"
    }
   ],
   "source": [
    "list(cells.aggregate([\n",
    "        {\n",
    "            '$unwind': '$channels'\n",
    "        },\n",
    "        {\n",
    "            '$group': {\n",
    "                '_id': '$channels',\n",
    "                'count': {'$sum': 1}\n",
    "            }\n",
    "        }\n",
    "    ]))"
   ]
  },
  {
   "cell_type": "markdown",
   "metadata": {},
   "source": [
    "We can <tt>\\$sort</tt> the channels by count. A basic principle is that <b>it's better to let your database do as much of the data processing as possible than to transfer data to Python and process it there</b>."
   ]
  },
  {
   "cell_type": "code",
   "execution_count": 35,
   "metadata": {},
   "outputs": [
    {
     "data": {
      "text/plain": [
       "[{'_id': 'I h', 'count': 3},\n",
       " {'_id': 'I A', 'count': 3},\n",
       " {'_id': 'I N', 'count': 3},\n",
       " {'_id': 'I T low threshold', 'count': 3},\n",
       " {'_id': 'I K,Ca', 'count': 2},\n",
       " {'_id': 'I Na,p', 'count': 2},\n",
       " {'_id': 'I Na,t', 'count': 2},\n",
       " {'_id': 'I K', 'count': 2},\n",
       " {'_id': 'I L high threshold', 'count': 2},\n",
       " {'_id': 'I p,q', 'count': 2},\n",
       " {'_id': 'I CAN', 'count': 1},\n",
       " {'_id': 'I Potassium', 'count': 1},\n",
       " {'_id': 'I M', 'count': 1}]"
      ]
     },
     "execution_count": 35,
     "metadata": {},
     "output_type": "execute_result"
    }
   ],
   "source": [
    "list(cells.aggregate([\n",
    "        {\n",
    "            '$unwind': '$channels'\n",
    "        },\n",
    "        {\n",
    "            '$group': {\n",
    "                '_id': '$channels',\n",
    "                'count': {'$sum': 1}\n",
    "            }\n",
    "        },\n",
    "        {\n",
    "            '$sort': {'count': -1}\n",
    "        }\n",
    "    ]))"
   ]
  },
  {
   "cell_type": "markdown",
   "metadata": {},
   "source": [
    "Just like with the <tt>sort</tt> method we saw before: the -1 in the <tt>\\$sort</tt> command above means to sort in descending order. To sort in ascending order, replace the -1 with a 1."
   ]
  },
  {
   "cell_type": "markdown",
   "metadata": {},
   "source": [
    "Warning: MongoDB has a limit on the amount of memory it will use for a sort. If your query requires too much, a straightforward sort will fail, although there are work-arounds."
   ]
  },
  {
   "cell_type": "markdown",
   "metadata": {},
   "source": [
    "An even more flexible solution for data processing is to write your own <tt>map</tt> and <tt>reduce</tt> functions in JavaScript (yes, even though you're otherwise working in Python) and pass them to map_reduce. A simple example is <a href=\"http://api.mongodb.com/python/current/examples/aggregation.html#map-reduce\">here</a>."
   ]
  },
  {
   "cell_type": "markdown",
   "metadata": {},
   "source": [
    "<h1>Deleting documents, etc</h1>"
   ]
  },
  {
   "cell_type": "code",
   "execution_count": 36,
   "metadata": {},
   "outputs": [],
   "source": [
    "result = cells.delete_many({'name': {'$regex': 'Dentate'}})"
   ]
  },
  {
   "cell_type": "code",
   "execution_count": 37,
   "metadata": {},
   "outputs": [
    {
     "data": {
      "text/plain": [
       "1"
      ]
     },
     "execution_count": 37,
     "metadata": {},
     "output_type": "execute_result"
    }
   ],
   "source": [
    "result.deleted_count"
   ]
  },
  {
   "cell_type": "markdown",
   "metadata": {},
   "source": [
    "There is also a <tt>delete_one</tt> method that deletes only one match.<br/><br/>To delete an entire collection, use, e.g.:"
   ]
  },
  {
   "cell_type": "code",
   "execution_count": 38,
   "metadata": {},
   "outputs": [
    {
     "data": {
      "text/plain": [
       "{'nIndexesWas': 1, 'ns': 'testuser.functions', 'ok': 1.0}"
      ]
     },
     "execution_count": 38,
     "metadata": {},
     "output_type": "execute_result"
    }
   ],
   "source": [
    "mydb.drop_collection('functions')"
   ]
  },
  {
   "cell_type": "code",
   "execution_count": 39,
   "metadata": {},
   "outputs": [
    {
     "data": {
      "text/plain": [
       "{'nIndexesWas': 2, 'ns': 'testuser.cells', 'ok': 1.0}"
      ]
     },
     "execution_count": 39,
     "metadata": {},
     "output_type": "execute_result"
    }
   ],
   "source": [
    "mydb.drop_collection('cells')"
   ]
  }
 ],
 "metadata": {
  "kernelspec": {
   "display_name": "Python 3",
   "language": "python",
   "name": "python3"
  },
  "language_info": {
   "codemirror_mode": {
    "name": "ipython",
    "version": 3
   },
   "file_extension": ".py",
   "mimetype": "text/x-python",
   "name": "python",
   "nbconvert_exporter": "python",
   "pygments_lexer": "ipython3",
   "version": "3.5.2"
  }
 },
 "nbformat": 4,
 "nbformat_minor": 2
}
